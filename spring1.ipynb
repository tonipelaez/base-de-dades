{
 "cells": [
  {
   "cell_type": "markdown",
   "metadata": {},
   "source": [
    "# Spring1 : Bases de datos\n"
   ]
  },
  {
   "cell_type": "markdown",
   "metadata": {},
   "source": [
    "### Exercici 1.\n",
    "\n",
    "Montamos la base de datos primero creando la estructura copiando y ejecutando los comandos del archivo _estructura de les bases de datos.txt_ y despues rellenamos con datos los campos mediante los comandos del archivo _datos a introducir_."
   ]
  },
  {
   "cell_type": "markdown",
   "metadata": {},
   "source": [
    "Primero veremos las BBDD que tenemos creadas mediante el comando _SHOW databases_ :\n",
    "\n",
    "![base datos](show.png \"Mostrar BBDD\")"
   ]
  },
  {
   "cell_type": "markdown",
   "metadata": {},
   "source": [
    "y le decimos al sistema que deseamos trabajar con la BBDD _movies_ mediante el comando _USE movies_ . Ahora que ya tenemos seleccionada nuestra BBDD de trabajo , vemos las tablas que la componen con el comando _SHOW tables_:\n",
    "\n",
    "![](tables.png)\n",
    "\n",
    "Podemos ver que nuestra BBDD movies esta compuesta por 4 tablas\n"
   ]
  },
  {
   "cell_type": "markdown",
   "metadata": {},
   "source": [
    "En cada tabla tenemos agregada información bajo diferentes aspectos de los datos sobre peliculas (el genero al que pertenecen , los datos de las  peliculas , los datos de los actores , etc ).   \n",
    "De estas tablas podríamos diferenciar dos típos : por un lado las tablas que sirven para almacenar datos , por ejemplo la tabla _tb_movie_ donde estan guardados datos de las películas y otras tablas que nos permiten relacionar datos de diferentes tablas , como por ejemplo la tabla _tb_movie_person_ que nos relaciona peliculas con actores y generos.\n",
    "\n"
   ]
  },
  {
   "cell_type": "markdown",
   "metadata": {},
   "source": [
    "Podemos examinar los diferentes campos de cada tabla mediante el comando _describe_ y ver los diferentes campos que las componen:\n",
    "\n",
    "![](table1.png)\n",
    "![](table2.png)\n",
    "![](table3.png)\n",
    "![](table4.png)\n",
    "![](table5.png)\n"
   ]
  },
  {
   "cell_type": "markdown",
   "metadata": {},
   "source": [
    "Por un lado tenemos los campos *_id que son los campos claves que son los que sirven para indexar la información entre las diferentes tablas y por otro lado los campos de datos propiamente. \n",
    "Vemos que cada campo tiene caracteristica como el tipo de dato , si se permiten valores NULL, el dato por defecto y el campo _KEY_ , que es el que nos indica los campos que permiten relacionar la información entre las diferentes tablas y mantener la coherencia de los datos mismos. "
   ]
  },
  {
   "cell_type": "markdown",
   "metadata": {},
   "source": [
    "### Exercici 2."
   ]
  },
  {
   "cell_type": "markdown",
   "metadata": {},
   "source": [
    "Las personas que esten vivas serán aquellas que tengan el campo _person_dod_ \"vacio\",en nuestro caso con valor NULL.\n",
    "\n",
    "Para encontar los valores NULL de una columna usamos la expresion WHERE ... IS NULL , en nuestro caso , depués de sellecionar la base datos movies usaremos la expresión:  \n",
    "\n",
    "_select * from tb_person where person_dod is NULL;_\n",
    "\n",
    "si adema queremos que lo ordenen de mas viejo a joven , debemos seleccionar el campo fecha de nacimiento y darle un orden ascendente, en una sola expresión nos quedaria:  \n",
    "\n",
    "_select * from tb_person where person_dod is NULL order by person_dob asc;_\n"
   ]
  },
  {
   "cell_type": "markdown",
   "metadata": {},
   "source": [
    "![](Spring1_ex2_.png)\n"
   ]
  },
  {
   "cell_type": "markdown",
   "metadata": {},
   "source": [
    "### Exercici 3.\n"
   ]
  },
  {
   "cell_type": "markdown",
   "metadata": {},
   "source": [
    "Para encontrar el número total de películas de un genero usamos el comando \"COUNT\" y en este caso lo enviamos a un campo llamado _clave_ . Despúes mediante el comando INNER JOIN lo relacionamos con la tabla que contiene el nombre de los generos , mediante los primary keys, finalmente agrupamos y ordenamos ."
   ]
  },
  {
   "cell_type": "markdown",
   "metadata": {},
   "source": [
    "![](spring1_ex3_.png)\n"
   ]
  },
  {
   "cell_type": "markdown",
   "metadata": {},
   "source": [
    "### Exercici 4."
   ]
  },
  {
   "cell_type": "markdown",
   "metadata": {},
   "source": [
    "En este caso haremos uso de dos comandos SELECT anidados con el campo papeles como los diferentes papeles del actor por \"peli\" que es otro campo con el id de cada pelicula:\n",
    "    select \n",
    "        person_id,person_name \n",
    "        from tb_person\n",
    "        where person_id in\n",
    "            (select \n",
    "            person_id,\n",
    "            count(role_id) as papeles,\n",
    "        movie_id as peli from\n",
    "        tb_movie_person \n",
    "        group by peli ,person_id);\n"
   ]
  },
  {
   "cell_type": "markdown",
   "metadata": {},
   "source": [
    "![](spring1_ex4_1.png)\n",
    "\n",
    "\n",
    "Para mostrar los que tengan más de un papel usaremos el comando HAVING para filtrar despues de agrupar y listo\n",
    "\n",
    "![](spring1_ex4_2.png)\n"
   ]
  },
  {
   "cell_type": "markdown",
   "metadata": {},
   "source": [
    "### Exercici 5."
   ]
  },
  {
   "cell_type": "markdown",
   "metadata": {},
   "source": [
    "Para crear un nuevo campo de genero usamos  la expresión \"INSERT\" y le pasamos los valores que deaseamos que tengan.  \n",
    "\n",
    "![](spring1_5_2.png)"
   ]
  },
  {
   "cell_type": "markdown",
   "metadata": {},
   "source": [
    "### Exercici 6."
   ]
  },
  {
   "cell_type": "markdown",
   "metadata": {},
   "source": [
    "Vemos los datos que contiene la tabla:\n",
    "![](spring1_6.png)"
   ]
  },
  {
   "cell_type": "markdown",
   "metadata": {},
   "source": [
    "En este caso , al intentar borrar el registro directamente nos dara un error debido a que la _primary key_ asociada a la película se usa en otras tablas, por ejemplo _tb_movie_person_. Es decir nos avisa de que si lo borramos habrá una pérdida de coherencia de los datos que podrían generar errores o que hubiese datos no accesibles. \n",
    "En nuestro caso , nos saltaremos las restricciones y lo borramos sin más.\n",
    "![](spring1_6-1.png)"
   ]
  },
  {
   "cell_type": "markdown",
   "metadata": {},
   "source": [
    "### Exercici 7."
   ]
  },
  {
   "cell_type": "markdown",
   "metadata": {},
   "source": [
    "Vemos los datos que hay en las tablas genero y películas antes de cambiarlo."
   ]
  },
  {
   "cell_type": "markdown",
   "metadata": {},
   "source": [
    "\n",
    "![](spring1_7_2.png)\n",
    "\n",
    "Mediante el comando \"UPDATE\" introducimos la modificación que queremos hacer y comprobamos:\n",
    "\n",
    "![](spring1_7_3.png)"
   ]
  }
 ],
 "metadata": {
  "kernelspec": {
   "display_name": "Python 3.6.9 64-bit",
   "language": "python",
   "name": "python3"
  },
  "language_info": {
   "name": "python",
   "version": "3.6.9"
  },
  "orig_nbformat": 4,
  "vscode": {
   "interpreter": {
    "hash": "31f2aee4e71d21fbe5cf8b01ff0e069b9275f58929596ceb00d14d90e3e16cd6"
   }
  }
 },
 "nbformat": 4,
 "nbformat_minor": 2
}
